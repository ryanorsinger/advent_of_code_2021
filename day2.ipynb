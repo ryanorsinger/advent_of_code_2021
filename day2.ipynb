{
 "cells": [
  {
   "cell_type": "markdown",
   "metadata": {},
   "source": [
    "## --- Day 2: Dive! ---\n",
    "\n",
    "Now, you need to figure out how to pilot this thing.\n",
    "\n",
    "It seems like the submarine can take a series of commands like forward 1, down 2, or up 3:\n",
    "\n",
    "forward X increases the horizontal position by X units.\n",
    "down X increases the depth by X units.\n",
    "up X decreases the depth by X units.\n",
    "Note that since you're on a submarine, down and up affect your depth, and so they have the opposite result of what you might expect.\n",
    "\n",
    "The submarine seems to already have a planned course (your puzzle input). You should probably figure out where it's going. For example:\n",
    "\n",
    "```\n",
    "forward 5\n",
    "down 5\n",
    "forward 8\n",
    "up 3\n",
    "down 8\n",
    "forward 2\n",
    "```\n",
    "\n",
    "Your horizontal position and depth both start at 0. The steps above would then modify them as follows:\n",
    "\n",
    "forward 5 adds 5 to your horizontal position, a total of 5.\n",
    "down 5 adds 5 to your depth, resulting in a value of 5.\n",
    "forward 8 adds 8 to your horizontal position, a total of 13.\n",
    "up 3 decreases your depth by 3, resulting in a value of 2.\n",
    "down 8 adds 8 to your depth, resulting in a value of 10.\n",
    "forward 2 adds 2 to your horizontal position, a total of 15.\n",
    "After following these instructions, you would have a horizontal position of 15 and a depth of 10. (Multiplying these together produces 150.)\n",
    "\n",
    "**Calculate the horizontal position and depth you would have after following the planned course. What do you get if you multiply your final horizontal position by your final depth?**\n"
   ]
  },
  {
   "cell_type": "markdown",
   "metadata": {},
   "source": [
    "### Thoughts\n",
    "- First thought: iterate through list, check each string and use a conditional to check for \"forward\", \"up\", or \"down\"\n",
    "    - Set the `direction` variable to hold the direction component for comparison to map to `x` or `y`\n",
    "    - Set the `magnitude` variable to hold the integer version of the number of units\n",
    "- Another approach: re-orient the data a bit:\n",
    "    - convert \"forward 5\" into \"horizontal,+5\"\n",
    "    - convert \"down 3\" into \"depth,+3\"\n",
    "    - convert \"up 1\" into \"up,-1\"\n",
    "- Since `int` will turn \"+5\" into 5 and \"-2\" into 2, then simplifying depth and horizontal position is more direct.\n",
    "- strip any whitespace before converting types"
   ]
  },
  {
   "cell_type": "code",
   "execution_count": 1,
   "metadata": {},
   "outputs": [],
   "source": [
    "example_data = [\n",
    "    \"forward 5\", \n",
    "    \"down 5\", \n",
    "    \"forward 8\",\n",
    "    \"up 3\",\n",
    "    \"down 8\",\n",
    "    \"forward 2\"\n",
    "]"
   ]
  },
  {
   "cell_type": "code",
   "execution_count": 2,
   "metadata": {},
   "outputs": [],
   "source": [
    "def depth_times_horizonal_units(data):\n",
    "    \n",
    "    # Horizontal units\n",
    "    x = 0\n",
    "\n",
    "    # Depth units\n",
    "    y = 0\n",
    "\n",
    "    # Add the .strip to account fort the trail\n",
    "    for vector in data:\n",
    "        # Strip any whitespace\n",
    "        vector = vector.strip()\n",
    "        \n",
    "        # Each string has a magnitude and direction, so \"vector\" is a direct variable name\n",
    "        parts = vector.split(\" \")\n",
    "\n",
    "        direction = parts[0]\n",
    "        magnitude = int(parts[1])\n",
    "\n",
    "        if direction == \"forward\":\n",
    "            x += magnitude\n",
    "        elif direction == \"down\":\n",
    "            y += magnitude\n",
    "        elif direction == \"up\":\n",
    "            y -= magnitude\n",
    "\n",
    "    return x * y"
   ]
  },
  {
   "cell_type": "code",
   "execution_count": 3,
   "metadata": {},
   "outputs": [
    {
     "name": "stdout",
     "output_type": "stream",
     "text": [
      "Implementation sufficient for exmaple data\n"
     ]
    }
   ],
   "source": [
    "# Setup a unit test of this implementation w/ the example data\n",
    "assert depth_times_horizonal_units(example_data) == 150\n",
    "print(\"Implementation sufficient for exmaple data\")"
   ]
  },
  {
   "cell_type": "code",
   "execution_count": 4,
   "metadata": {},
   "outputs": [
    {
     "data": {
      "text/plain": [
       "['forward 5\\n',\n",
       " 'forward 1\\n',\n",
       " 'forward 3\\n',\n",
       " 'down 8\\n',\n",
       " 'up 6\\n',\n",
       " 'down 5\\n',\n",
       " 'forward 6\\n',\n",
       " 'down 9\\n',\n",
       " 'down 7\\n',\n",
       " 'up 9\\n']"
      ]
     },
     "execution_count": 4,
     "metadata": {},
     "output_type": "execute_result"
    }
   ],
   "source": [
    "# Let's check with the puzzle input\n",
    "# Aquire the data\n",
    "data = []\n",
    "filename = 'input2.txt'\n",
    "with open(filename) as f:\n",
    "    data = f.readlines()\n",
    "\n",
    "data[0:10]"
   ]
  },
  {
   "cell_type": "code",
   "execution_count": 5,
   "metadata": {},
   "outputs": [
    {
     "data": {
      "text/plain": [
       "1507611"
      ]
     },
     "execution_count": 5,
     "metadata": {},
     "output_type": "execute_result"
    }
   ],
   "source": [
    "depth_times_horizonal_units(data)"
   ]
  },
  {
   "cell_type": "markdown",
   "metadata": {},
   "source": [
    "## --- Part Two ---\n",
    "Based on your calculations, the planned course doesn't seem to make any sense. You find the submarine manual and discover that the process is actually slightly more complicated.\n",
    "\n",
    "In addition to horizontal position and depth, you'll also need to track a third value, aim, which also starts at 0. The commands also mean something entirely different than you first thought:\n",
    "\n",
    "- down X increases your aim by X units.\n",
    "- up X decreases your aim by X units.\n",
    "- forward X does two things:\n",
    "    - It increases your horizontal position by X units.\n",
    "    - It increases your depth by your aim multiplied by X.\n",
    "- Again note that since you're on a submarine, down and up do the opposite of what you might expect: \"down\" means aiming in the positive direction.\n",
    "\n",
    "Now, the above example does something different:\n",
    "\n",
    "- forward 5 adds 5 to your horizontal position, a total of 5. Because your aim is 0, your depth does not change.\n",
    "- 0 down 5 adds 5 to your aim, resulting in a value of 5.\n",
    "- forward 8 adds 8 to your horizontal position, a total of 13. Because your aim is 5, your depth increases by 8*5=40.\n",
    "- up 3 decreases your aim by 3, resulting in a value of 2.\n",
    "- down 8 adds 8 to your aim, resulting in a value of 10.\n",
    "- forward 2 adds 2 to your horizontal position, a total of 15. Because your aim is 10, your depth increases by 2*10=20 to a total of 60.\n",
    "\n",
    "After following these new instructions, you would have a horizontal position of 15 and a depth of 60. (Multiplying these produces `900`.)\n",
    "\n",
    "Using this new interpretation of the commands, calculate the horizontal position and depth you would have after following the planned course. What do you get if you multiply your final horizontal position by your final depth?"
   ]
  },
  {
   "cell_type": "code",
   "execution_count": 6,
   "metadata": {},
   "outputs": [],
   "source": [
    "example_data = [\n",
    "    \"forward 5\",\n",
    "    \"down 5\",\n",
    "    \"forward 8\",\n",
    "    \"up 3\",\n",
    "    \"down 8\",\n",
    "    \"forward 2\"\n",
    "]"
   ]
  },
  {
   "cell_type": "code",
   "execution_count": 8,
   "metadata": {},
   "outputs": [],
   "source": [
    "def part2(data):\n",
    "    \n",
    "    # Aim\n",
    "    aim = 0\n",
    "\n",
    "    # Horizontal units\n",
    "    x = 0\n",
    "\n",
    "    # Depth units\n",
    "    y = 0\n",
    "\n",
    "    # Add the .strip to account fort the trail\n",
    "    for vector in data:\n",
    "        # Strip any whitespace\n",
    "        vector = vector.strip()\n",
    "\n",
    "        # Each string has a magnitude and direction, so \"vector\" is a direct variable name\n",
    "        parts = vector.split(\" \")\n",
    "\n",
    "        direction = parts[0]\n",
    "        magnitude = int(parts[1])\n",
    "\n",
    "        if direction == \"forward\":\n",
    "            # Increase horizontal position by the amount of units\n",
    "            x += magnitude\n",
    "\n",
    "            # Increase depth by the product of aim * the amount of units\n",
    "            y += magnitude * aim\n",
    "\n",
    "        elif direction == \"down\":\n",
    "            aim += magnitude\n",
    "        elif direction == \"up\":\n",
    "            aim -= magnitude\n",
    "\n",
    "    return x * y"
   ]
  },
  {
   "cell_type": "code",
   "execution_count": 10,
   "metadata": {},
   "outputs": [
    {
     "name": "stdout",
     "output_type": "stream",
     "text": [
      "Implementation satisfies the example input/output\n"
     ]
    }
   ],
   "source": [
    "assert part2(example_data) == 900\n",
    "print(\"Implementation satisfies the example input/output\")"
   ]
  },
  {
   "cell_type": "code",
   "execution_count": 13,
   "metadata": {},
   "outputs": [
    {
     "data": {
      "text/plain": [
       "1880593125"
      ]
     },
     "execution_count": 13,
     "metadata": {},
     "output_type": "execute_result"
    }
   ],
   "source": [
    "part2(data)"
   ]
  },
  {
   "cell_type": "code",
   "execution_count": null,
   "metadata": {},
   "outputs": [],
   "source": []
  }
 ],
 "metadata": {
  "kernelspec": {
   "display_name": "Python 3",
   "language": "python",
   "name": "python3"
  },
  "language_info": {
   "codemirror_mode": {
    "name": "ipython",
    "version": 3
   },
   "file_extension": ".py",
   "mimetype": "text/x-python",
   "name": "python",
   "nbconvert_exporter": "python",
   "pygments_lexer": "ipython3",
   "version": "3.8.8"
  }
 },
 "nbformat": 4,
 "nbformat_minor": 4
}
