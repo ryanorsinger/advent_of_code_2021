{
 "cells": [
  {
   "cell_type": "markdown",
   "id": "7aae078e",
   "metadata": {},
   "source": [
    "# --- Day 3: Binary Diagnostic ---\n",
    "\n",
    "The submarine has been making some odd creaking noises, so you ask it to produce a diagnostic report just in case.\n",
    "\n",
    "The diagnostic report (your puzzle input) consists of a list of binary numbers which, when decoded properly, can tell you many useful things about the conditions of the submarine. The first parameter to check is the power consumption.\n",
    "\n",
    "You need to use the binary numbers in the diagnostic report to generate two new binary numbers (called the gamma rate and the epsilon rate). The power consumption can then be found by multiplying the gamma rate by the epsilon rate.\n",
    "\n",
    "Each bit in the gamma rate can be determined by finding the most common bit in the corresponding position of all numbers in the diagnostic report. For example, given the following diagnostic report:\n",
    "\n",
    "```\n",
    "00100\n",
    "11110\n",
    "10110\n",
    "10111\n",
    "10101\n",
    "01111\n",
    "00111\n",
    "11100\n",
    "10000\n",
    "11001\n",
    "00010\n",
    "01010\n",
    "```\n",
    "\n",
    "Considering only the first bit of each number, there are five 0 bits and seven 1 bits. Since the most common bit is 1, the first bit of the gamma rate is 1.\n",
    "\n",
    "The most common second bit of the numbers in the diagnostic report is 0, so the second bit of the gamma rate is 0.\n",
    "\n",
    "The most common value of the third, fourth, and fifth bits are 1, 1, and 0, respectively, and so the final three bits of the gamma rate are 110.\n",
    "\n",
    "So, the gamma rate is the binary number 10110, or 22 in decimal.\n",
    "\n",
    "The epsilon rate is calculated in a similar way; rather than use the most common bit, the least common bit from each position is used. So, the epsilon rate is 01001, or 9 in decimal. Multiplying the gamma rate (22) by the epsilon rate (9) produces the power consumption, 198.\n",
    "\n",
    "Use the binary numbers in your diagnostic report to calculate the gamma rate and epsilon rate, then multiply them together. What is the power consumption of the submarine? (Be sure to represent your answer in decimal, not binary.)"
   ]
  },
  {
   "cell_type": "markdown",
   "id": "0cdbc251",
   "metadata": {},
   "source": [
    "## Planning\n",
    "- Each columnwise mode yields that column's `gamma`\n",
    "- Make a numpy array or pandas series of the input"
   ]
  },
  {
   "cell_type": "code",
   "execution_count": 4,
   "id": "345509d4",
   "metadata": {},
   "outputs": [],
   "source": [
    "import pandas as pd"
   ]
  },
  {
   "cell_type": "code",
   "execution_count": 8,
   "id": "b51c684a",
   "metadata": {},
   "outputs": [],
   "source": [
    "example_data = [\n",
    "    \"00100 \",\n",
    "    \"11110 \",\n",
    "    \"10110 \",\n",
    "    \"10111 \",\n",
    "    \"10101 \",\n",
    "    \"01111 \",\n",
    "    \"00111 \",\n",
    "    \"11100 \",\n",
    "    \"10000 \",\n",
    "    \"11001 \",\n",
    "    \"00010 \",\n",
    "    \"01010 \",\n",
    "]"
   ]
  },
  {
   "cell_type": "code",
   "execution_count": 9,
   "id": "c10f33c6",
   "metadata": {},
   "outputs": [],
   "source": [
    "def part1(data):\n",
    "    # Setup a dataframe of strings for each bit\n",
    "    df = pd.DataFrame([list(row.strip()) for row in data])\n",
    "    \n",
    "    gamma_binary_list_of_strings = df.mode().values[0].tolist()\n",
    "\n",
    "    # Convert list of string bits into to binary\n",
    "    gamma = int(\"\".join(gamma_binary_list_of_strings), 2)\n",
    "    \n",
    "    # Do a janky string/int -1/absolute value process in order to bit flip \n",
    "    epsilon_binary_list_of_strings = (df.mode().astype(int).T - 1).abs().T.astype(str).values[0].tolist()\n",
    "    \n",
    "    # Convert list of string bits into to binary\n",
    "    epsilon = int(\"\".join(epsilon_binary_list_of_strings), 2)\n",
    "\n",
    "    return gamma * epsilon "
   ]
  },
  {
   "cell_type": "code",
   "execution_count": 10,
   "id": "9791652f",
   "metadata": {},
   "outputs": [
    {
     "name": "stdout",
     "output_type": "stream",
     "text": [
      "198\n",
      "Good to go\n"
     ]
    }
   ],
   "source": [
    "assert part1(example_data) == 198\n",
    "print(part1(example_data))\n",
    "print(\"Good to go\")"
   ]
  },
  {
   "cell_type": "code",
   "execution_count": 11,
   "id": "19a066b7",
   "metadata": {},
   "outputs": [],
   "source": [
    "# acquire the puzzle input data\n",
    "data = []\n",
    "filename = 'day3.txt'\n",
    "with open(filename) as f:\n",
    "    data = f.readlines()\n"
   ]
  },
  {
   "cell_type": "code",
   "execution_count": 12,
   "id": "a78ffb3e",
   "metadata": {},
   "outputs": [
    {
     "data": {
      "text/plain": [
       "4006064"
      ]
     },
     "execution_count": 12,
     "metadata": {},
     "output_type": "execute_result"
    }
   ],
   "source": [
    "# calculate gamma * epsilon for puzzle input\n",
    "part1(data)"
   ]
  },
  {
   "cell_type": "code",
   "execution_count": null,
   "id": "0af48ac2",
   "metadata": {},
   "outputs": [],
   "source": []
  }
 ],
 "metadata": {
  "kernelspec": {
   "display_name": "Python 3",
   "language": "python",
   "name": "python3"
  },
  "language_info": {
   "codemirror_mode": {
    "name": "ipython",
    "version": 3
   },
   "file_extension": ".py",
   "mimetype": "text/x-python",
   "name": "python",
   "nbconvert_exporter": "python",
   "pygments_lexer": "ipython3",
   "version": "3.8.8"
  }
 },
 "nbformat": 4,
 "nbformat_minor": 5
}
