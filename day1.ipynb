{
 "cells": [
  {
   "cell_type": "markdown",
   "metadata": {},
   "source": [
    "## --- Day 1: Sonar Sweep --- (Part 1)\n",
    "\n",
    "You're minding your own business on a ship at sea when the overboard alarm goes off! You rush to see if you can help. Apparently, one of the Elves tripped and accidentally sent the sleigh keys flying into the ocean!\n",
    "\n",
    "Before you know it, you're inside a submarine the Elves keep ready for situations like this. It's covered in Christmas lights (because of course it is), and it even has an experimental antenna that should be able to track the keys if you can boost its signal strength high enough; there's a little meter that indicates the antenna's signal strength by displaying 0-50 stars.\n",
    "\n",
    "Your instincts tell you that in order to save Christmas, you'll need to get all fifty stars by December 25th.\n",
    "\n",
    "Collect stars by solving puzzles. Two puzzles will be made available on each day in the Advent calendar; the second puzzle is unlocked when you complete the first. Each puzzle grants one star. Good luck!\n",
    "\n",
    "As the submarine drops below the surface of the ocean, it automatically performs a sonar sweep of the nearby sea floor. On a small screen, the sonar sweep report (your puzzle input) appears: each line is a measurement of the sea floor depth as the sweep looks further and further away from the submarine.\n",
    "\n",
    "For example, suppose you had the following report:\n",
    "\n",
    "```\n",
    "199\n",
    "200\n",
    "208\n",
    "210\n",
    "200\n",
    "207\n",
    "240\n",
    "269\n",
    "260\n",
    "263\n",
    "```\n",
    "\n",
    "This report indicates that, scanning outward from the submarine, the sonar sweep found depths of 199, 200, 208, 210, and so on.\n",
    "\n",
    "The first order of business is to figure out how quickly the depth increases, just so you know what you're dealing with - you never know if the keys will get carried into deeper water by an ocean current or a fish or something.\n",
    "\n",
    "To do this, count the number of times a depth measurement increases from the previous measurement. (There is no measurement before the first measurement.) In the example above, the changes are as follows:\n",
    "\n",
    "```\n",
    "199 (N/A - no previous measurement)\n",
    "200 (increased)\n",
    "208 (increased)\n",
    "210 (increased)\n",
    "200 (decreased)\n",
    "207 (increased)\n",
    "240 (increased)\n",
    "269 (increased)\n",
    "260 (decreased)\n",
    "263 (increased)\n",
    "```\n",
    "\n",
    "In this example, there are 7 measurements that are larger than the previous measurement.\n",
    "\n",
    "How many measurements are larger than the previous measurement?"
   ]
  },
  {
   "cell_type": "markdown",
   "metadata": {},
   "source": [
    "### Planning \n",
    "\n",
    "Goal: count the number of times a measurement increases from the previous measurement\n",
    "\n",
    "Thoughts:\n",
    "- A variable to represent the noun of \"count of measurement increases\"\n",
    "- A comparison that answers the question if the measurement increased or not\n",
    "- We'll run our algorithm on all but the first value, so we don't get an index out of range error.\n",
    "- I'll likely need to convert the raw input to make sure it's not a string.\n",
    "- Use the example input + output as a unit test"
   ]
  },
  {
   "cell_type": "code",
   "execution_count": 1,
   "metadata": {},
   "outputs": [],
   "source": [
    "def count_measurement_increases(data):\n",
    "    \"\"\"\n",
    "    Takes in a list of numbers and returns the number of times a measurement increases in value\n",
    "    \"\"\"\n",
    "    \n",
    "    # Count starts at zero\n",
    "    count = 0\n",
    "    \n",
    "    # I'm using enumerate in order to access the index number of the list. \n",
    "    # The underscore variable is a convention for unused variables\n",
    "    # I choose to use a for instead of a while loop b/c my input is finite and I won't run the risk of an infinite loop.\n",
    "    for i, _ in enumerate(data):\n",
    "        \n",
    "        # Only run this algorithm if we're not on the very first element\n",
    "        if i > 0:\n",
    "            last_measurement = data[i - 1]\n",
    "            current_measurement = data[i]\n",
    "\n",
    "            if current_measurement > last_measurement:\n",
    "                count += 1\n",
    "                \n",
    "    return count"
   ]
  },
  {
   "cell_type": "code",
   "execution_count": 2,
   "metadata": {},
   "outputs": [
    {
     "name": "stdout",
     "output_type": "stream",
     "text": [
      "Solution appears sufficient\n"
     ]
    }
   ],
   "source": [
    "example_data = [199, 200, 208, 210, 200, 207, 240, 269, 260, 263]\n",
    "assert count_measurement_increases(example_data) == 7\n",
    "print(\"Solution appears sufficient\")"
   ]
  },
  {
   "cell_type": "code",
   "execution_count": 3,
   "metadata": {},
   "outputs": [
    {
     "data": {
      "text/plain": [
       "['196\\n',\n",
       " '197\\n',\n",
       " '176\\n',\n",
       " '182\\n',\n",
       " '179\\n',\n",
       " '177\\n',\n",
       " '171\\n',\n",
       " '172\\n',\n",
       " '170\\n',\n",
       " '147\\n']"
      ]
     },
     "execution_count": 3,
     "metadata": {},
     "output_type": "execute_result"
    }
   ],
   "source": [
    "# Let's check with the puzzle input\n",
    "# Aquire the data\n",
    "filename = 'input1.txt'\n",
    "with open(filename) as f:\n",
    "    data = f.readlines()\n",
    "    \n",
    "# Check the data\n",
    "data[0:10]"
   ]
  },
  {
   "cell_type": "code",
   "execution_count": 4,
   "metadata": {},
   "outputs": [],
   "source": [
    "# Wrangle the data\n",
    "# Looks like we need to remove new line characters and convert the data type\n",
    "data = [int(n.strip()) for n in data]"
   ]
  },
  {
   "cell_type": "code",
   "execution_count": 5,
   "metadata": {},
   "outputs": [
    {
     "data": {
      "text/plain": [
       "[196, 197, 176, 182, 179, 177, 171, 172, 170, 147]"
      ]
     },
     "execution_count": 5,
     "metadata": {},
     "output_type": "execute_result"
    }
   ],
   "source": [
    "# Double check the data\n",
    "data[0:10]"
   ]
  },
  {
   "cell_type": "code",
   "execution_count": 6,
   "metadata": {},
   "outputs": [
    {
     "data": {
      "text/plain": [
       "1228"
      ]
     },
     "execution_count": 6,
     "metadata": {},
     "output_type": "execute_result"
    }
   ],
   "source": [
    "# Puzzle Answer\n",
    "count_measurement_increases(data)"
   ]
  },
  {
   "cell_type": "markdown",
   "metadata": {},
   "source": [
    "## Part 2\n",
    "\n",
    "--- Part Two ---\n",
    "Considering every single measurement isn't as useful as you expected: there's just too much noise in the data.\n",
    "\n",
    "Instead, consider sums of a three-measurement sliding window. Again considering the above example:\n",
    "\n",
    "```\n",
    "199  A      \n",
    "200  A B    \n",
    "208  A B C  \n",
    "210    B C D\n",
    "200  E   C D\n",
    "207  E F   D\n",
    "240  E F G  \n",
    "269    F G H\n",
    "260      G H\n",
    "263        H\n",
    "```\n",
    "\n",
    "Start by comparing the first and second three-measurement windows. The measurements in the first window are marked A (199, 200, 208); their sum is 199 + 200 + 208 = 607. The second window is marked B (200, 208, 210); its sum is 618. The sum of measurements in the second window is larger than the sum of the first, so this first comparison increased.\n",
    "\n",
    "Your goal now is to count the number of times the sum of measurements in this sliding window increases from the previous sum. So, compare A with B, then compare B with C, then C with D, and so on. Stop when there aren't enough measurements left to create a new three-measurement sum.\n",
    "\n",
    "In the above example, the sum of each three-measurement window is as follows:\n",
    "\n",
    "```\n",
    "A: 607 (N/A - no previous sum)\n",
    "B: 618 (increased)\n",
    "C: 618 (no change)\n",
    "D: 617 (decreased)\n",
    "E: 647 (increased)\n",
    "F: 716 (increased)\n",
    "G: 769 (increased)\n",
    "H: 792 (increased)\n",
    "```\n",
    "In this example, there are 5 sums that are larger than the previous sum.\n",
    "\n",
    "Consider sums of a three-measurement sliding window. How many sums are larger than the previous sum?"
   ]
  },
  {
   "cell_type": "markdown",
   "metadata": {},
   "source": [
    "### Planning\n",
    "\n",
    "- The goal is to count the number of times the sum of a window is greater than the last window (of 3 measurements)\n",
    "- I might want a piece of state to hold each window. Up to 3 windows at a time. But there's often better options than adding extra state variables...\n",
    "- Reshaping might be helpful, here. Consider how reshaping simplifies the entire affair. \n",
    "    ```\n",
    "    [\n",
    "        [199, 200, 208],\n",
    "        [200, 208, 210],\n",
    "        [208, 210, 200],\n",
    "        ...\n",
    "    ]\n",
    "    ```\n",
    "- My first thought is an array chunk or split, but I don't know that those built in functions move a window with some overlapping indexes.\n",
    "- If reshaping costs too much time, then perhaps I only need two arrays in memory: `this_window` and `last_window` where they are each 3 element lists/arrays that I'll sum and then append the sums into a flat list. \n",
    "- Once I have a flat list of sums, I can rely on the previously defined `count_measurement_increases` to count the number of measurement (window) increases.\n",
    "- `np.lib.stride_tricks.sliding_window_view(data, 3)` in numpy version >= 1.20 solves this exact sliding window view problem.\n",
    "    - From the purist/practioner's perspective, it would be interesting and valuable to implement this sliding window view.\n",
    "    - From the firm's view, it's not worth employee time to reimplement solutions available in proven, trusted libraries.\n",
    "    - The A product owner or project manager's perspective may be closer in alignment with the firm's. Software should be upgraded and since dev time is expensive and we don't want to maintain someone's implementation, let's use numpy.\n",
    "    - From the Dev and Ops team perspective, they might not be able to upgrade a dependency that may need to update other dependencies. Updates and dependencies can create a house of cards/hydra problem. But it's challenging to say \"Let's freeze all of our dependencies\" unless it's already been an expensive problem"
   ]
  },
  {
   "cell_type": "code",
   "execution_count": 7,
   "metadata": {},
   "outputs": [],
   "source": [
    "import numpy as np"
   ]
  },
  {
   "cell_type": "code",
   "execution_count": 8,
   "metadata": {},
   "outputs": [],
   "source": [
    "def count_window_increases(data):\n",
    "    data = np.lib.stride_tricks.sliding_window_view(data, 3)\n",
    "    sums = data.sum(axis=1)\n",
    "    increases = count_measurement_increases(sums)\n",
    "    return increases"
   ]
  },
  {
   "cell_type": "code",
   "execution_count": 9,
   "metadata": {},
   "outputs": [
    {
     "name": "stdout",
     "output_type": "stream",
     "text": [
      "Solution sufficient on example data\n"
     ]
    }
   ],
   "source": [
    "# Use example data from above to check a unit test\n",
    "example_data = [199, 200, 208, 210, 200, 207, 240, 269, 260, 263]\n",
    "assert count_window_increases(example_data) == 5\n",
    "print(\"Solution sufficient on example data\")"
   ]
  },
  {
   "cell_type": "code",
   "execution_count": 10,
   "metadata": {},
   "outputs": [
    {
     "data": {
      "text/plain": [
       "1257"
      ]
     },
     "execution_count": 10,
     "metadata": {},
     "output_type": "execute_result"
    }
   ],
   "source": [
    "count_window_increases(data)"
   ]
  },
  {
   "cell_type": "markdown",
   "metadata": {},
   "source": [
    "# Other Approaches\n",
    "- numpy/pandas for the first question\n",
    "    - Using pandas [.diff](https://pandas.pydata.org/docs/reference/api/pandas.DataFrame.diff.html)\n",
    "- adding visuals might be neat. \n"
   ]
  },
  {
   "cell_type": "code",
   "execution_count": 12,
   "metadata": {},
   "outputs": [],
   "source": [
    "import numpy as np\n",
    "import pandas as pd"
   ]
  },
  {
   "cell_type": "code",
   "execution_count": 21,
   "metadata": {},
   "outputs": [],
   "source": [
    "def pandas_part1(data):\n",
    "    numbers = pd.Series(data)\n",
    "    differences = numbers.diff()\n",
    "    positive_differences = (differences > 0)\n",
    "    return positive_differences.sum()"
   ]
  },
  {
   "cell_type": "code",
   "execution_count": 23,
   "metadata": {},
   "outputs": [
    {
     "name": "stdout",
     "output_type": "stream",
     "text": [
      "Satisfies the spec\n"
     ]
    }
   ],
   "source": [
    "assert pandas_part1(data) == 1228\n",
    "print(\"Satisfies the spec\")"
   ]
  },
  {
   "cell_type": "code",
   "execution_count": null,
   "metadata": {},
   "outputs": [],
   "source": []
  }
 ],
 "metadata": {
  "kernelspec": {
   "display_name": "Python 3",
   "language": "python",
   "name": "python3"
  },
  "language_info": {
   "codemirror_mode": {
    "name": "ipython",
    "version": 3
   },
   "file_extension": ".py",
   "mimetype": "text/x-python",
   "name": "python",
   "nbconvert_exporter": "python",
   "pygments_lexer": "ipython3",
   "version": "3.8.8"
  }
 },
 "nbformat": 4,
 "nbformat_minor": 4
}
