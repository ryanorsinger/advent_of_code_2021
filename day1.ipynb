{
 "cells": [
  {
   "cell_type": "markdown",
   "metadata": {},
   "source": [
    "## --- Day 1: Sonar Sweep --- (Part 1)\n",
    "\n",
    "You're minding your own business on a ship at sea when the overboard alarm goes off! You rush to see if you can help. Apparently, one of the Elves tripped and accidentally sent the sleigh keys flying into the ocean!\n",
    "\n",
    "Before you know it, you're inside a submarine the Elves keep ready for situations like this. It's covered in Christmas lights (because of course it is), and it even has an experimental antenna that should be able to track the keys if you can boost its signal strength high enough; there's a little meter that indicates the antenna's signal strength by displaying 0-50 stars.\n",
    "\n",
    "Your instincts tell you that in order to save Christmas, you'll need to get all fifty stars by December 25th.\n",
    "\n",
    "Collect stars by solving puzzles. Two puzzles will be made available on each day in the Advent calendar; the second puzzle is unlocked when you complete the first. Each puzzle grants one star. Good luck!\n",
    "\n",
    "As the submarine drops below the surface of the ocean, it automatically performs a sonar sweep of the nearby sea floor. On a small screen, the sonar sweep report (your puzzle input) appears: each line is a measurement of the sea floor depth as the sweep looks further and further away from the submarine.\n",
    "\n",
    "For example, suppose you had the following report:\n",
    "\n",
    "```\n",
    "199\n",
    "200\n",
    "208\n",
    "210\n",
    "200\n",
    "207\n",
    "240\n",
    "269\n",
    "260\n",
    "263\n",
    "```\n",
    "\n",
    "This report indicates that, scanning outward from the submarine, the sonar sweep found depths of 199, 200, 208, 210, and so on.\n",
    "\n",
    "The first order of business is to figure out how quickly the depth increases, just so you know what you're dealing with - you never know if the keys will get carried into deeper water by an ocean current or a fish or something.\n",
    "\n",
    "To do this, count the number of times a depth measurement increases from the previous measurement. (There is no measurement before the first measurement.) In the example above, the changes are as follows:\n",
    "\n",
    "```\n",
    "199 (N/A - no previous measurement)\n",
    "200 (increased)\n",
    "208 (increased)\n",
    "210 (increased)\n",
    "200 (decreased)\n",
    "207 (increased)\n",
    "240 (increased)\n",
    "269 (increased)\n",
    "260 (decreased)\n",
    "263 (increased)\n",
    "```\n",
    "\n",
    "In this example, there are 7 measurements that are larger than the previous measurement.\n",
    "\n",
    "How many measurements are larger than the previous measurement?"
   ]
  },
  {
   "cell_type": "markdown",
   "metadata": {},
   "source": [
    "## Vanilla Python Approach"
   ]
  },
  {
   "cell_type": "markdown",
   "metadata": {},
   "source": [
    "### Planning \n",
    "\n",
    "Goal: count the number of times a measurement increases from the previous measurement\n",
    "\n",
    "Thoughts:\n",
    "- A variable to represent the noun of \"count of measurement increases\"\n",
    "- A comparison that answers the question if the measurement increased or not\n",
    "- We'll run our algorithm on all but the first value, so we don't get an index out of range error.\n",
    "- I'll likely need to convert the raw input to make sure it's not a string.\n",
    "- Use the example input + output as a unit test"
   ]
  },
  {
   "cell_type": "code",
   "execution_count": 1,
   "metadata": {},
   "outputs": [],
   "source": [
    "def count_measurement_increases(data):\n",
    "    \"\"\"\n",
    "    Takes in a list of numbers and returns the number of times a measurement increases in value\n",
    "    \"\"\"\n",
    "    \n",
    "    # Count starts at zero\n",
    "    count = 0\n",
    "    \n",
    "    # I'm using enumerate in order to access the index number of the list. \n",
    "    # The underscore variable is a convention for unused variables\n",
    "    # I choose to use a for instead of a while loop b/c my input is finite and I won't run the risk of an infinite loop.\n",
    "    for i, _ in enumerate(data):\n",
    "        \n",
    "        # Only run this algorithm if we're not on the very first element\n",
    "        if i > 0:\n",
    "            last_measurement = data[i - 1]\n",
    "            current_measurement = data[i]\n",
    "\n",
    "            if current_measurement > last_measurement:\n",
    "                count += 1\n",
    "                \n",
    "    return count"
   ]
  },
  {
   "cell_type": "code",
   "execution_count": 2,
   "metadata": {},
   "outputs": [
    {
     "name": "stdout",
     "output_type": "stream",
     "text": [
      "Solution appears sufficient\n"
     ]
    }
   ],
   "source": [
    "example_data = [199, 200, 208, 210, 200, 207, 240, 269, 260, 263]\n",
    "assert count_measurement_increases(example_data) == 7\n",
    "print(\"Solution appears sufficient\")"
   ]
  },
  {
   "cell_type": "code",
   "execution_count": 3,
   "metadata": {},
   "outputs": [
    {
     "data": {
      "text/plain": [
       "['196\\n',\n",
       " '197\\n',\n",
       " '176\\n',\n",
       " '182\\n',\n",
       " '179\\n',\n",
       " '177\\n',\n",
       " '171\\n',\n",
       " '172\\n',\n",
       " '170\\n',\n",
       " '147\\n']"
      ]
     },
     "execution_count": 3,
     "metadata": {},
     "output_type": "execute_result"
    }
   ],
   "source": [
    "# Let's check with the puzzle input\n",
    "# Aquire the data\n",
    "filename = 'input1.txt'\n",
    "with open(filename) as f:\n",
    "    data = f.readlines()\n",
    "    \n",
    "# Check the data\n",
    "data[0:10]"
   ]
  },
  {
   "cell_type": "code",
   "execution_count": 4,
   "metadata": {},
   "outputs": [],
   "source": [
    "# Wrangle the data\n",
    "# Looks like we need to remove new line characters and convert the data type\n",
    "data = [int(n.strip()) for n in data]"
   ]
  },
  {
   "cell_type": "code",
   "execution_count": 5,
   "metadata": {},
   "outputs": [
    {
     "data": {
      "text/plain": [
       "[196, 197, 176, 182, 179, 177, 171, 172, 170, 147]"
      ]
     },
     "execution_count": 5,
     "metadata": {},
     "output_type": "execute_result"
    }
   ],
   "source": [
    "# Double check the data\n",
    "data[0:10]"
   ]
  },
  {
   "cell_type": "code",
   "execution_count": 6,
   "metadata": {},
   "outputs": [
    {
     "data": {
      "text/plain": [
       "1228"
      ]
     },
     "execution_count": 6,
     "metadata": {},
     "output_type": "execute_result"
    }
   ],
   "source": [
    "# Puzzle Answer\n",
    "count_measurement_increases(data)"
   ]
  }
 ],
 "metadata": {
  "kernelspec": {
   "display_name": "Python 3",
   "language": "python",
   "name": "python3"
  },
  "language_info": {
   "codemirror_mode": {
    "name": "ipython",
    "version": 3
   },
   "file_extension": ".py",
   "mimetype": "text/x-python",
   "name": "python",
   "nbconvert_exporter": "python",
   "pygments_lexer": "ipython3",
   "version": "3.8.5"
  }
 },
 "nbformat": 4,
 "nbformat_minor": 4
}
